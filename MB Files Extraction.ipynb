{
 "cells": [
  {
   "cell_type": "markdown",
   "metadata": {},
   "source": [
    "## pymbsys Exploration Notebook\n",
    "For use developing the pymbsys wrapper library"
   ]
  },
  {
   "cell_type": "code",
   "execution_count": 33,
   "metadata": {},
   "outputs": [],
   "source": [
    "\"\"\"\n",
    "Provides pythonic access to an MB file.\n",
    "\n",
    "Interface that allows the user to execute the commands of MB-System on the specified file. Each of those commands is\n",
    "provided as a python method of this object, and will allow the user to specify the appropriate flags for that command.\n",
    "Each command will also provide default configurations for that command.\n",
    "\n",
    "\n",
    "Currently only implements the mblist function  -TS 15/MAY/19\n",
    "\"\"\"\n",
    "import os.path\n",
    "import subprocess as sp\n",
    "\n",
    "\n",
    "def gmt5_bin_dir():\n",
    "    # todo: Figure out a way to dynamically look up where the gmt5 lib is\n",
    "    return r'C:\\Users\\tristan.sebens\\Projects\\pymbsys\\gmt5\\bin'\n",
    "\n",
    "\n",
    "class MBFile:\n",
    "    def __init__(self, fp):\n",
    "        # todo: If there is some file extension that happens to have 'mb' in it, behaviour is undefined. Make better\n",
    "        # (.mbw)     – MBRWizard archive\n",
    "        # (.emb)     – Wilcom ES Designer Embroidery CAD file\n",
    "        # (.mbp)     - metadata for Mobipocket documents\n",
    "        # (.mb)      - Autodesk Maya Binary File\n",
    "        # (.embl)    - The flatfile format used by the EMBL to represent database records\n",
    "        # (.numbers) - An Apple Numbers Spreadsheet file\n",
    "        # (.ftmb)    - Family Tree Maker backup file\n",
    "\n",
    "        exts = fp.split('.')\n",
    "        if not any(['mb' in e for e in exts]):\n",
    "            raise TypeError('Specified file is not an MB System file.')\n",
    "\n",
    "        self._fp = fp # Path to the specified file\n",
    "        self._format = int(list(filter(lambda e: 'mb' in e, exts[::-1]))[0].replace('mb', ''))\n",
    "\n",
    "    def list(self, o_fp):\n",
    "        \"\"\"Extract the data from the file\"\"\"\n",
    "        # Build the command\n",
    "        cmd = \"mblist -I {input_fp} -X {output_fp} -G , -MA\".format(**{'input_fp': self._fp, 'output_fp': o_fp})\n",
    "        # Execute the command\n",
    "        sp.run(os.path.join(gmt5_bin_dir(), cmd))\n",
    "        return o_fp"
   ]
  },
  {
   "cell_type": "code",
   "execution_count": 39,
   "metadata": {},
   "outputs": [],
   "source": [
    "import os\n",
    "import os.path\n",
    "import sys\n",
    "import subprocess as sp\n",
    "import multiprocessing as mp\n",
    "\n",
    "MAX_NUM_PROC = 12"
   ]
  },
  {
   "cell_type": "markdown",
   "metadata": {},
   "source": [
    "First we need to establish our environment on the host system, specifically the location of the gmt5 'bin' folder"
   ]
  },
  {
   "cell_type": "code",
   "execution_count": 35,
   "metadata": {},
   "outputs": [],
   "source": [
    "cwd = os.getcwd() # Get the root directory of the project\n",
    "\n",
    "bin_d = os.path.join(cwd, 'gmt5', 'bin')\n",
    "sys.path.append(bin_d)"
   ]
  },
  {
   "cell_type": "code",
   "execution_count": 36,
   "metadata": {},
   "outputs": [],
   "source": [
    "fp = r'C:\\Users\\tristan.sebens\\Projects\\Notebooks\\Bathymetry\\data\\mb\\0000_20050101_092150_HEALY.all.mb58'\n",
    "f = MBFile(fp)"
   ]
  },
  {
   "cell_type": "code",
   "execution_count": 26,
   "metadata": {},
   "outputs": [
    {
     "name": "stdout",
     "output_type": "stream",
     "text": [
      "C:\\Users\\tristan.sebens\\Projects\\Notebooks\\Bathymetry\\data\\mb\\mblist.csv\n"
     ]
    }
   ],
   "source": [
    "print(f.list(r'C:\\Users\\tristan.sebens\\Projects\\Notebooks\\Bathymetry\\data\\mb\\mblist.csv'))"
   ]
  },
  {
   "cell_type": "code",
   "execution_count": 40,
   "metadata": {},
   "outputs": [],
   "source": [
    "def mb_to_csv(mb_fp, o_fp):\n",
    "    MBFile(mb_fp).list(o_fp)\n",
    "    \n",
    "def filename(fp):\n",
    "    return os.path.split(fp)[1]\n",
    "    \n",
    "def process_to_dir(d):\n",
    "    return lambda mb_fp: mb_to_csv(mb_fp, os.path.join(d, filename(mb_fp) + '.xyz'))"
   ]
  },
  {
   "cell_type": "code",
   "execution_count": 42,
   "metadata": {},
   "outputs": [],
   "source": [
    "in_d = r'C:\\Users\\tristan.sebens\\Projects\\Notebooks\\Bathymetry\\data\\xyz'\n",
    "files = [os.path.join(in_d, f) for f in os.listdir(in_d)]"
   ]
  },
  {
   "cell_type": "code",
   "execution_count": null,
   "metadata": {},
   "outputs": [],
   "source": [
    "out_d = r'C:\\Users\\tristan.sebens\\Projects\\Notebooks\\Bathymetry\\data\\mb\\test'\n",
    "fn = process_to_dir(out_d)\n",
    "p = mp.Pool(MAX_NUM_PROC)\n",
    "p.map(fn, files)"
   ]
  }
 ],
 "metadata": {
  "kernelspec": {
   "display_name": "Python 3",
   "language": "python",
   "name": "python3"
  },
  "language_info": {
   "codemirror_mode": {
    "name": "ipython",
    "version": 3
   },
   "file_extension": ".py",
   "mimetype": "text/x-python",
   "name": "python",
   "nbconvert_exporter": "python",
   "pygments_lexer": "ipython3",
   "version": "3.6.3"
  }
 },
 "nbformat": 4,
 "nbformat_minor": 2
}
